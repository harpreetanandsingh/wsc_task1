{
 "cells": [
  {
   "cell_type": "code",
   "execution_count": 11,
   "id": "6df37afc",
   "metadata": {},
   "outputs": [
    {
     "name": "stdout",
     "output_type": "stream",
     "text": [
      "Kindly enter the no. of trials : 400\n",
      "100.0 250.0\n"
     ]
    }
   ],
   "source": [
    "n = int(input(\"Kindly enter the no. of trials : \"))\n",
    "\n",
    "def E(n):\n",
    "    if n == 1:\n",
    "        return 0.25\n",
    "\n",
    "    answer = E(n-1) + 0.25\n",
    "    return answer\n",
    "\n",
    "def V(n):\n",
    "    if n == 1:\n",
    "        return 0.625\n",
    "    \n",
    "    variance = V(n-1) + 0.625\n",
    "    return variance\n",
    "\n",
    "\n",
    "x = E(n)\n",
    "y = V(n)\n",
    "print(x,y)\n",
    "\n",
    "# From the above "
   ]
  },
  {
   "cell_type": "code",
   "execution_count": null,
   "id": "42c7c0ea",
   "metadata": {},
   "outputs": [],
   "source": []
  },
  {
   "cell_type": "markdown",
   "id": "f9b4f3e3",
   "metadata": {},
   "source": []
  }
 ],
 "metadata": {
  "kernelspec": {
   "display_name": "Python 3",
   "language": "python",
   "name": "python3"
  },
  "language_info": {
   "codemirror_mode": {
    "name": "ipython",
    "version": 3
   },
   "file_extension": ".py",
   "mimetype": "text/x-python",
   "name": "python",
   "nbconvert_exporter": "python",
   "pygments_lexer": "ipython3",
   "version": "3.8.8"
  }
 },
 "nbformat": 4,
 "nbformat_minor": 5
}
